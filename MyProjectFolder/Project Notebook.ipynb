{
 "cells": [
  {
   "cell_type": "markdown",
   "metadata": {},
   "source": [
    "# Grade/GPA Calculator\n",
    "\n"
   ]
  },
  {
   "cell_type": "markdown",
   "metadata": {},
   "source": [
    "## Project Description\n",
    "\n",
    "This program can be used to calculate the final grade of a class or calculate the term GPA. It will ask for the user to type in what they would like to calculate. Then it will gather some information from the user and return the GPA or final grade."
   ]
  },
  {
   "cell_type": "code",
   "execution_count": null,
   "metadata": {},
   "outputs": [],
   "source": [
    "import numpy as np\n",
    "from unittest import mock\n",
    "\n",
    "from my_module.functions import *\n",
    "from my_module.test_functions import *"
   ]
  },
  {
   "cell_type": "code",
   "execution_count": null,
   "metadata": {},
   "outputs": [],
   "source": [
    "test_find_categories()    # Test to make sure the 'find_categories()' method for the GradeCalculator class works\n",
    "\n",
    "print('Hey! I will be helping you calculate your grade or GPA.')\n",
    "print('')\n",
    "\n",
    "while True:     # Asks the user what they would like to calculate.\n",
    "    # Will run only if 'gpa' or 'grade' is in the user's input (whichever comes first)\n",
    "\n",
    "    choice = input('Which would you like to calculate? :')\n",
    "\n",
    "    if 'grade' in choice.lower():\n",
    "        print('')\n",
    "        print(\"No problem! I'll just need some information\")\n",
    "        print('')\n",
    "\n",
    "        run = GradeCalculator()    # Creates instance of grade calculator class\n",
    "        run.find_categories()     # Gets the number of categories from the user\n",
    "        run.grade_weights()    # Gets the grade and weight of each category\n",
    "        run.grade_calculator()    # Calculates the total percentage\n",
    "\n",
    "        print('Your grade is', \"%.2f\" % run.total, '%')  # https://stackoverflow.com/a/3914795\n",
    "        break\n",
    "\n",
    "    elif 'gpa' in choice.lower():\n",
    "        print('')\n",
    "        print(\"Okay! Let's get started\")\n",
    "        print('')\n",
    "        run = GpaCalculator()    # Creates instance of GPA Calculator class\n",
    "        run.find_grades_units()    # Gets the letter grade and units from the user\n",
    "        run.grade_converter()    # Converts the letter grade to a number\n",
    "        total_grade_points = run.total_num_calc()\n",
    "        total_units = run.add_num(run.units)    # Units added together\n",
    "        gpa = total_grade_points / total_units\n",
    "        print('Your GPA is', \"%.3f\" % gpa)  # https://stackoverflow.com/a/3914795\n",
    "        break\n",
    "    else:\n",
    "        print(\"Oops! I'm sorry I don't understand. Please type in 'grade' or 'GPA'\")\n",
    "        print('')\n",
    "        pass\n"
   ]
  },
  {
   "cell_type": "code",
   "execution_count": null,
   "metadata": {},
   "outputs": [],
   "source": []
  }
 ],
 "metadata": {
  "kernelspec": {
   "display_name": "Python 3",
   "language": "python",
   "name": "python3"
  },
  "language_info": {
   "codemirror_mode": {
    "name": "ipython",
    "version": 3
   },
   "file_extension": ".py",
   "mimetype": "text/x-python",
   "name": "python",
   "nbconvert_exporter": "python",
   "pygments_lexer": "ipython3",
   "version": "3.7.1"
  }
 },
 "nbformat": 4,
 "nbformat_minor": 2
}
